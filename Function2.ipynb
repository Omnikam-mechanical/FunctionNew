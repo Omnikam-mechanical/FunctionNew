{
  "nbformat": 4,
  "nbformat_minor": 0,
  "metadata": {
    "colab": {
      "provenance": [],
      "authorship_tag": "ABX9TyPRVrS6GxEc9tN6EX4jWAg3",
      "include_colab_link": true
    },
    "kernelspec": {
      "name": "python3",
      "display_name": "Python 3"
    },
    "language_info": {
      "name": "python"
    }
  },
  "cells": [
    {
      "cell_type": "markdown",
      "metadata": {
        "id": "view-in-github",
        "colab_type": "text"
      },
      "source": [
        "<a href=\"https://colab.research.google.com/github/Omnikam-mechanical/FunctionNew/blob/main/Function2.ipynb\" target=\"_parent\"><img src=\"https://colab.research.google.com/assets/colab-badge.svg\" alt=\"Open In Colab\"/></a>"
      ]
    },
    {
      "cell_type": "code",
      "execution_count": null,
      "metadata": {
        "id": "GyFY5YOJmugp"
      },
      "outputs": [],
      "source": []
    },
    {
      "cell_type": "code",
      "source": [],
      "metadata": {
        "id": "9FkioA7TZ-SU"
      },
      "execution_count": null,
      "outputs": []
    },
    {
      "cell_type": "code",
      "source": [
        "##1Write a Python function that takes a list of numbers s input and\n",
        "# returns sum of all even numbers in the list\n",
        "def sum_of_even_numbers(numbers):\n",
        "    # Use a list comprehension to filter even numbers and sum them\n",
        "    return sum(num for num in numbers if num % 2 == 0)\n",
        "\n",
        "# Example usage\n",
        "numbers = [47, 11, 42, 13]\n",
        "result = sum_of_even_numbers(numbers)\n",
        "print(result)  # Output will be 42 (since only 42 is even)\n"
      ],
      "metadata": {
        "colab": {
          "base_uri": "https://localhost:8080/"
        },
        "id": "mUMHRH7SYYiN",
        "outputId": "db561a6f-432f-40c2-92a4-9fe1ae525274"
      },
      "execution_count": null,
      "outputs": [
        {
          "output_type": "stream",
          "name": "stdout",
          "text": [
            "42\n"
          ]
        }
      ]
    },
    {
      "cell_type": "code",
      "source": [],
      "metadata": {
        "id": "InLaeclrk16H"
      },
      "execution_count": null,
      "outputs": []
    },
    {
      "cell_type": "code",
      "source": [],
      "metadata": {
        "id": "XvJWYNi6Yqc3"
      },
      "execution_count": null,
      "outputs": []
    },
    {
      "cell_type": "code",
      "source": [
        "##2 Create a Python function that accepts a\n",
        "# string and returns the reverse of that string.\n",
        "def reverse_string(input_string):\n",
        "    # Return the reversed string using slicing\n",
        "    return input_string[::-1]\n",
        "\n",
        "# Example usage\n",
        "result = reverse_string(\"Hello World\")\n",
        "print(result)  # Output will be \"dlroW olleH\"\n",
        "\n"
      ],
      "metadata": {
        "colab": {
          "base_uri": "https://localhost:8080/"
        },
        "id": "x92zYP0_kM-x",
        "outputId": "2472ab5b-fa5f-47d2-cc00-63ad39735fd5"
      },
      "execution_count": null,
      "outputs": [
        {
          "output_type": "stream",
          "name": "stdout",
          "text": [
            "dlroW olleH\n"
          ]
        }
      ]
    },
    {
      "cell_type": "code",
      "source": [
        "##3Implement a Python function that takes a list of integers and returns a new list\n",
        "# containing the squares of each number\n",
        "def square_numbers(numbers):\n",
        "    # Use a list comprehension to square each number in the list\n",
        "    return [num ** 2 for num in numbers]\n",
        "\n",
        "# Example usage\n",
        "numbers = [2, 3, 4, 5]\n",
        "result = square_numbers(numbers)\n",
        "print(result)  # Output will be [4, 9, 16, 25]"
      ],
      "metadata": {
        "colab": {
          "base_uri": "https://localhost:8080/"
        },
        "id": "gW3Bt9YpkW1_",
        "outputId": "779f32d3-e75e-4def-ae67-065c2c9b8dc3"
      },
      "execution_count": null,
      "outputs": [
        {
          "output_type": "stream",
          "name": "stdout",
          "text": [
            "[4, 9, 16, 25]\n"
          ]
        }
      ]
    },
    {
      "cell_type": "code",
      "source": [
        "##4Write a Python function that checks if\n",
        "# a given number is prime or not from 1 to 200\n",
        "def is_prime(number):\n",
        "    # Handle edge cases\n",
        "    if number < 2:\n",
        "        return False\n",
        "    # Check divisibility for numbers from 2 to the square root of the number\n",
        "    for i in range(2, int(number ** 0.5) + 1):\n",
        "        if number % i == 0:\n",
        "            return False\n",
        "    return True\n",
        "\n",
        "# Example usage to check prime numbers between 1 and 200\n",
        "for num in range(1, 201):\n",
        "    if is_prime(num):\n",
        "        print(f\"{num} is a prime number.\")"
      ],
      "metadata": {
        "colab": {
          "base_uri": "https://localhost:8080/"
        },
        "id": "MMoTGrgJkZ5r",
        "outputId": "b92b1a2b-5de8-4d82-95ee-8586f4f2d70b"
      },
      "execution_count": null,
      "outputs": [
        {
          "output_type": "stream",
          "name": "stdout",
          "text": [
            "2 is a prime number.\n",
            "3 is a prime number.\n",
            "5 is a prime number.\n",
            "7 is a prime number.\n",
            "11 is a prime number.\n",
            "13 is a prime number.\n",
            "17 is a prime number.\n",
            "19 is a prime number.\n",
            "23 is a prime number.\n",
            "29 is a prime number.\n",
            "31 is a prime number.\n",
            "37 is a prime number.\n",
            "41 is a prime number.\n",
            "43 is a prime number.\n",
            "47 is a prime number.\n",
            "53 is a prime number.\n",
            "59 is a prime number.\n",
            "61 is a prime number.\n",
            "67 is a prime number.\n",
            "71 is a prime number.\n",
            "73 is a prime number.\n",
            "79 is a prime number.\n",
            "83 is a prime number.\n",
            "89 is a prime number.\n",
            "97 is a prime number.\n",
            "101 is a prime number.\n",
            "103 is a prime number.\n",
            "107 is a prime number.\n",
            "109 is a prime number.\n",
            "113 is a prime number.\n",
            "127 is a prime number.\n",
            "131 is a prime number.\n",
            "137 is a prime number.\n",
            "139 is a prime number.\n",
            "149 is a prime number.\n",
            "151 is a prime number.\n",
            "157 is a prime number.\n",
            "163 is a prime number.\n",
            "167 is a prime number.\n",
            "173 is a prime number.\n",
            "179 is a prime number.\n",
            "181 is a prime number.\n",
            "191 is a prime number.\n",
            "193 is a prime number.\n",
            "197 is a prime number.\n",
            "199 is a prime number.\n"
          ]
        }
      ]
    },
    {
      "cell_type": "code",
      "source": [
        "#5Create an iterator class in Python that generates the Fibonacci sequence up to a specified number of terms\n",
        "class FibonacciIterator:\n",
        "    def __init__(self, num_terms):\n",
        "        self.num_terms = num_terms  # Total number of Fibonacci terms to generate\n",
        "        self.current_term = 0  # Current term index\n",
        "        self.a, self.b = 0, 1  # Starting values for Fibonacci sequence\n",
        "\n",
        "    def __iter__(self):\n",
        "        return self  # Returns the iterator object itself\n",
        "\n",
        "    def __next__(self):\n",
        "        if self.current_term >= self.num_terms:\n",
        "            raise StopIteration  # Stop the iteration when the limit is reached\n",
        "\n",
        "        # Handle the first two terms separately\n",
        "        if self.current_term == 0:\n",
        "            self.current_term += 1\n",
        "            return self.a  # Return 0 for the first term\n",
        "        elif self.current_term == 1:\n",
        "            self.current_term += 1\n",
        "            return self.b  # Return 1 for the second term\n",
        "\n",
        "        # Generate subsequent terms\n",
        "        next_value = self.a + self.b  # Calculate next Fibonacci number\n",
        "        self.a, self.b = self.b, next_value  # Update a and b\n",
        "        self.current_term += 1  # Increment the term counter\n",
        "        return next_value  # Return the next Fibonacci number\n",
        "\n",
        "# Example usage\n",
        "fib_iterator = FibonacciIterator(10)  # Create an iterator for the first 10 Fibonacci numbers\n",
        "for num in fib_iterator:\n",
        "    print(num)"
      ],
      "metadata": {
        "colab": {
          "base_uri": "https://localhost:8080/"
        },
        "id": "a6LKE9fXkhgy",
        "outputId": "be5a8ce3-fcab-4865-81a1-f71342d44203"
      },
      "execution_count": null,
      "outputs": [
        {
          "output_type": "stream",
          "name": "stdout",
          "text": [
            "0\n",
            "1\n",
            "1\n",
            "2\n",
            "3\n",
            "5\n",
            "8\n",
            "13\n",
            "21\n",
            "34\n"
          ]
        }
      ]
    },
    {
      "cell_type": "code",
      "source": [
        "#6Write a generator function in Python that yields the powers of 2 up to a given exponen\n",
        "def powers_of_two(max_exponent):\n",
        "    \"\"\"Generator function that yields powers of 2 up to the specified exponent.\"\"\"\n",
        "    for exponent in range(max_exponent + 1):  # Include the max_exponent\n",
        "        yield 2 ** exponent  # Yield 2 raised to the current exponent\n",
        "\n",
        "# Example usage\n",
        "max_exp = 10  # Specify the maximum exponent\n",
        "for power in powers_of_two(max_exp):\n",
        "    print(power)"
      ],
      "metadata": {
        "colab": {
          "base_uri": "https://localhost:8080/"
        },
        "id": "9XRYeM6FlBeO",
        "outputId": "2576dd8f-037e-4e74-ba8c-5cd776d62376"
      },
      "execution_count": null,
      "outputs": [
        {
          "output_type": "stream",
          "name": "stdout",
          "text": [
            "1\n",
            "2\n",
            "4\n",
            "8\n",
            "16\n",
            "32\n",
            "64\n",
            "128\n",
            "256\n",
            "512\n",
            "1024\n"
          ]
        }
      ]
    },
    {
      "cell_type": "code",
      "source": [
        "#7mplement a generator function that reads a file line by line and yields each line as a string\n",
        "def read_file_line_by_line(file_path):\n",
        "    \"\"\"Generator function that reads a file line by line.\"\"\"\n",
        "    try:\n",
        "        with open(file_path, 'r') as file:  # Open the file in read mode\n",
        "            for line in file:  # Iterate over each line in the file\n",
        "                yield line.strip()  # Yield the line after stripping leading/trailing whitespace\n",
        "    except FileNotFoundError:\n",
        "        print(f\"Error: The file '{file_path}' was not found.\")\n",
        "    except IOError:\n",
        "        print(f\"Error: An IOError occurred while reading the file '{file_path}'.\")\n",
        "\n",
        "# Example usage\n",
        "file_path = 'example.txt'  # Specify the path to your file\n",
        "for line in read_file_line_by_line(file_path):\n",
        "    print(line)\n"
      ],
      "metadata": {
        "colab": {
          "base_uri": "https://localhost:8080/"
        },
        "id": "iC2qmUVOlK9G",
        "outputId": "9d5f7852-282e-4636-c041-c4304517cf57"
      },
      "execution_count": null,
      "outputs": [
        {
          "output_type": "stream",
          "name": "stdout",
          "text": [
            "Error: The file 'example.txt' was not found.\n"
          ]
        }
      ]
    },
    {
      "cell_type": "code",
      "source": [
        "#8Use a lambda function in Python to sort a list of tuples based on the second element of each tuple.\n",
        "# Sample list of tuples\n",
        "tuples_list = [(1, 'banana'), (2, 'apple'), (3, 'cherry'), (4, 'date')]\n",
        "\n",
        "# Using sorted() to create a new sorted list\n",
        "sorted_list = sorted(tuples_list, key=lambda x: x[1])\n",
        "\n",
        "# Output the sorted list\n",
        "print(\"Sorted list (new list):\", sorted_list)\n",
        "\n",
        "# If you want to sort the original list in place\n",
        "tuples_list.sort(key=lambda x: x[1])\n",
        "\n",
        "# Output the original list after sorting\n",
        "print(\"Original list after sort:\", tuples_list)\n"
      ],
      "metadata": {
        "colab": {
          "base_uri": "https://localhost:8080/"
        },
        "id": "HdxXIxPNlNaI",
        "outputId": "bad570c0-96ce-43ec-8728-7fd20026864c"
      },
      "execution_count": null,
      "outputs": [
        {
          "output_type": "stream",
          "name": "stdout",
          "text": [
            "Sorted list (new list): [(2, 'apple'), (1, 'banana'), (3, 'cherry'), (4, 'date')]\n",
            "Original list after sort: [(2, 'apple'), (1, 'banana'), (3, 'cherry'), (4, 'date')]\n"
          ]
        }
      ]
    },
    {
      "cell_type": "code",
      "source": [
        "#9Write a Python program that uses `map() to convert a list of temperatures from Celsius to Fahrenheit\n",
        "# Function to convert Celsius to Fahrenheit\n",
        "def celsius_to_fahrenheit(celsius):\n",
        "    return (celsius * 9/5) + 32\n",
        "\n",
        "# List of temperatures in Celsius\n",
        "celsius_temps = [0, 20, 37, 100]\n",
        "\n",
        "# Using map() to convert Celsius to Fahrenheit\n",
        "fahrenheit_temps = list(map(celsius_to_fahrenheit, celsius_temps))\n",
        "\n",
        "# Output the results\n",
        "print(\"Celsius temperatures:\", celsius_temps)\n",
        "print(\"Fahrenheit temperatures:\", fahrenheit_temps)\n",
        "\n",
        "\n",
        "##10 Create a Python program that uses `filter() to remove all the vowels from a given string.\n",
        "def remove_vowels(input_string):\n",
        "    # Define a function to check if a character is a vowel\n",
        "    def is_not_vowel(char):\n",
        "        return char.lower() not in 'aeiou'\n",
        "\n",
        "    # Use filter() to apply the is_not_vowel function to each character in the string\n",
        "    filtered_chars = filter(is_not_vowel, input_string)\n",
        "\n",
        "    # Join the filtered char"
      ],
      "metadata": {
        "id": "5JNdhaqElC7V"
      },
      "execution_count": null,
      "outputs": []
    },
    {
      "cell_type": "code",
      "source": [
        " #0 Create a Python program that uses `filter() to remove all the vowels from a given string.\n",
        "def remove_vowels(input_string):\n",
        "    # Define a function to check if a character is a vowel\n",
        "    def is_not_vowel(char):\n",
        "        return char.lower() not in 'aeiou'\n",
        "\n",
        "    # Use filter() to apply the is_not_vowel function to each character in the string\n",
        "    filtered_chars = filter(is_not_vowel, input_string)\n",
        "\n",
        "    # Join the filtered characters back into a string\n",
        "    return ''.join(filtered_chars)\n",
        "\n",
        "# Example usage\n",
        "input_string = \"Hello, World!\"\n",
        "result = remove_vowels(input_string)\n",
        "print(\"Original string:\", input_string)\n",
        "print(\"String without vowels:\", result)\n",
        "\n"
      ],
      "metadata": {
        "colab": {
          "base_uri": "https://localhost:8080/"
        },
        "id": "y2L1y14Dlq6I",
        "outputId": "e530afbc-91ab-4e10-8399-1f825c60f7ea"
      },
      "execution_count": null,
      "outputs": [
        {
          "output_type": "stream",
          "name": "stdout",
          "text": [
            "Original string: Hello, World!\n",
            "String without vowels: Hll, Wrld!\n"
          ]
        }
      ]
    },
    {
      "cell_type": "code",
      "source": [
        "#11\n",
        "books = [\n",
        "    [34587, \"Learning Python, Mark Lutz\", 4, 40.95],\n",
        "    [98762, \"Programming Python, Mark Lutz\", 5, 56.80],\n",
        "    [77226, \"Head First Python, Paul Barry\", 3, 32.95],\n",
        "    [88112, \"Einführung in Python3, Bernd Klein\", 3, 24.99]\n",
        "]\n",
        "\n",
        "# Lambda function to calculate the total price for each order\n",
        "# If the total is less than 100, 10 is added to the total\n",
        "calculate_total = lambda order: (order[0], order[2] * order[3] if order[2] * order[3] >= 100 else order[2] * order[3] + 10)\n",
        "\n",
        "# Using map to apply the lambda function to each order in the list\n",
        "result = list(map(calculate_total, books))\n",
        "\n",
        "# Print the result\n",
        "print(result)\n"
      ],
      "metadata": {
        "id": "Mwjb_yGTaA7Q"
      },
      "execution_count": null,
      "outputs": []
    }
  ]
}